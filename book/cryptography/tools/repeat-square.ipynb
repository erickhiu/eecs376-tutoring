{
 "cells": [
  {
   "cell_type": "markdown",
   "id": "555a8233",
   "metadata": {},
   "source": [
    "# Tool: Repeated Squaring"
   ]
  },
  {
   "cell_type": "code",
   "execution_count": 1,
   "id": "5ebb80c1",
   "metadata": {},
   "outputs": [],
   "source": [
    "def repeat_square(a, b, m):\n",
    "    binary_b = bin(b)[2:]  # Binary representation of b, e.g., 57 → '111001'\n",
    "    r = len(binary_b)\n",
    "\n",
    "    # Step 1: Precompute powers of a^(2^i) mod m\n",
    "    P = [0] * r\n",
    "    P[0] = a % m\n",
    "    for i in range(1, r):\n",
    "        P[i] = (P[i-1] ** 2) % m\n",
    "\n",
    "    # Print the power table\n",
    "    print(\"Power Table:\")\n",
    "    print(f\"{'i':<3}{'2^i':<6}{'P[i] = a^(2^i) mod m'}\")\n",
    "    for i in range(r):\n",
    "        print(f\"{i:<3}{2**i:<6}{P[i]}\")\n",
    "\n",
    "    # Step 2: Multiply terms corresponding to bits that are 1\n",
    "    E = 1\n",
    "    print(\"\\nMultiplying terms where bit is 1:\")\n",
    "    for i in range(r):\n",
    "        bit_index = r - 1 - i  # Match i-th bit from right (LSB)\n",
    "        if binary_b[bit_index] == '1':\n",
    "            before = E\n",
    "            E = (E * P[i]) % m\n",
    "            print(f\"Bit {i} is 1 → E = ({before} * {P[i]}) % {m} = {E}\")\n",
    "    \n",
    "    # Final result\n",
    "    print(f\"\\nFinal Answer: {a}^{b} mod {m} = {E}\")"
   ]
  },
  {
   "cell_type": "code",
   "execution_count": 2,
   "id": "6365affc",
   "metadata": {},
   "outputs": [
    {
     "name": "stdout",
     "output_type": "stream",
     "text": [
      "Power Table:\n",
      "i  2^i   P[i] = a^(2^i) mod m\n",
      "0  1     3\n",
      "1  2     9\n",
      "2  4     11\n",
      "3  8     9\n",
      "4  16    11\n",
      "5  32    9\n",
      "\n",
      "Multiplying terms where bit is 1:\n",
      "Bit 0 is 1 → E = (1 * 3) % 14 = 3\n",
      "Bit 3 is 1 → E = (3 * 9) % 14 = 13\n",
      "Bit 4 is 1 → E = (13 * 11) % 14 = 3\n",
      "Bit 5 is 1 → E = (3 * 9) % 14 = 13\n",
      "\n",
      "Final Answer: 3^57 mod 14 = 13\n"
     ]
    }
   ],
   "source": [
    "repeat_square(3, 57, 14)"
   ]
  }
 ],
 "metadata": {
  "kernelspec": {
   "display_name": "env",
   "language": "python",
   "name": "python3"
  },
  "language_info": {
   "codemirror_mode": {
    "name": "ipython",
    "version": 3
   },
   "file_extension": ".py",
   "mimetype": "text/x-python",
   "name": "python",
   "nbconvert_exporter": "python",
   "pygments_lexer": "ipython3",
   "version": "3.12.3"
  }
 },
 "nbformat": 4,
 "nbformat_minor": 5
}
