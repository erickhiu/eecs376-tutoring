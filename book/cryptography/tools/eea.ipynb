{
 "cells": [
  {
   "cell_type": "markdown",
   "id": "55abbe87",
   "metadata": {},
   "source": [
    "# Tool: Extended Euclidean Algorithm"
   ]
  },
  {
   "cell_type": "code",
   "execution_count": 1,
   "id": "c2718f16",
   "metadata": {},
   "outputs": [],
   "source": [
    "def extended_euclid(x, y):\n",
    "    table_rows = []\n",
    "\n",
    "    def recurse(x, y):\n",
    "        if y == 0:\n",
    "            table_rows.append((x, y, '', '', '', '', 1, 0))\n",
    "            return x, 1, 0\n",
    "        else:\n",
    "            q = x // y\n",
    "            r = x % y\n",
    "            g, a_prime, b_prime = recurse(y, r)\n",
    "            a = b_prime\n",
    "            b = a_prime - b_prime * q\n",
    "            table_rows.append((x, y, q, r, a_prime, b_prime, a, b))\n",
    "            return g, a, b\n",
    "\n",
    "    g, a, b = recurse(x, y)\n",
    "\n",
    "    header = ['x', 'y', 'q', 'r', \"a'\", \"b'\", 'a', 'b']\n",
    "    print('{:>6} {:>6} {:>6} {:>6} {:>6} {:>6} {:>6} {:>6}'.format(*header))\n",
    "    print('-' * 52)\n",
    "\n",
    "    for row in reversed(table_rows):\n",
    "        print('{:>6} {:>6} {:>6} {:>6} {:>6} {:>6} {:>6} {:>6}'.format(*[str(i) if i != '' else '' for i in row]))"
   ]
  },
  {
   "cell_type": "code",
   "execution_count": 2,
   "id": "c706cf4e",
   "metadata": {},
   "outputs": [
    {
     "name": "stdout",
     "output_type": "stream",
     "text": [
      "     x      y      q      r     a'     b'      a      b\n",
      "----------------------------------------------------\n",
      "    31     12      2      7      3     -5     -5     13\n",
      "    12      7      1      5     -2      3      3     -5\n",
      "     7      5      1      2      1     -2     -2      3\n",
      "     5      2      2      1      0      1      1     -2\n",
      "     2      1      2      0      1      0      0      1\n",
      "     1      0                                  1      0\n"
     ]
    }
   ],
   "source": [
    "extended_euclid(31, 12)"
   ]
  }
 ],
 "metadata": {
  "kernelspec": {
   "display_name": "env",
   "language": "python",
   "name": "python3"
  },
  "language_info": {
   "codemirror_mode": {
    "name": "ipython",
    "version": 3
   },
   "file_extension": ".py",
   "mimetype": "text/x-python",
   "name": "python",
   "nbconvert_exporter": "python",
   "pygments_lexer": "ipython3",
   "version": "3.12.3"
  }
 },
 "nbformat": 4,
 "nbformat_minor": 5
}
