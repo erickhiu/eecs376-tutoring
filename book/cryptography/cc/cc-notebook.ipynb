{
 "cells": [
  {
   "cell_type": "markdown",
   "id": "08629ff0",
   "metadata": {},
   "source": [
    "# Caesar Cipher"
   ]
  },
  {
   "cell_type": "code",
   "execution_count": 1,
   "id": "41d009bf",
   "metadata": {},
   "outputs": [
    {
     "name": "stdout",
     "output_type": "stream",
     "text": [
      "400644095036345936514356093209515259423656091750325118\n"
     ]
    }
   ],
   "source": [
    "def encrypt_digit(digit, key):\n",
    "    return (digit - key) % 10\n",
    "\n",
    "def encrypt_from_ascii(plaintext, key):\n",
    "    encrypted_digits = []\n",
    "    for char in plaintext:\n",
    "        ascii_val = ord(char)\n",
    "        tens = ascii_val // 10\n",
    "        ones = ascii_val % 10\n",
    "        encrypted_digits.append(encrypt_digit(tens, key))\n",
    "        encrypted_digits.append(encrypt_digit(ones, key))\n",
    "    return ''.join(str(d) for d in encrypted_digits)\n",
    "\n",
    "\n",
    "plaintext = \"I'M SECRETLY A TURKEY (SAT)\"\n",
    "key = 3\n",
    "ciphertext = encrypt_from_ascii(plaintext, key)\n",
    "print(ciphertext)"
   ]
  },
  {
   "cell_type": "code",
   "execution_count": 3,
   "id": "4f3648e9",
   "metadata": {},
   "outputs": [
    {
     "name": "stdout",
     "output_type": "stream",
     "text": [
      "Key 0:\n",
      "Decrypted digit pairs: 40 6 44 9 50 36 34 59 36 51 43 56 9 32 9 51 52 59 42 36 56 9 17 50 32 51 18\n",
      "Decrypted text: (\u0006,\t2$\";$3+8\t \t34;*$8\t\u00112 3\u0012\n",
      "Key 1:\n",
      "Decrypted digit pairs: 51 17 55 10 61 47 45 60 47 62 54 67 10 43 10 62 63 60 53 47 67 10 28 61 43 62 29\n",
      "Decrypted text: 3\u00117\n",
      "=/-</>6C\n",
      "+\n",
      ">?<5/C\n",
      "\u001c=+>\u001d\n",
      "Key 2:\n",
      "Decrypted digit pairs: 62 28 66 21 72 58 56 71 58 73 65 78 21 54 21 73 74 71 64 58 78 21 39 72 54 73 30\n",
      "Decrypted text: >\u001cB\u0015H:8G:IAN\u00156\u0015IJG@:N\u0015'H6I\u001e\n",
      "Key 3:\n",
      "Decrypted digit pairs: 73 39 77 32 83 69 67 82 69 84 76 89 32 65 32 84 85 82 75 69 89 32 40 83 65 84 41\n",
      "Decrypted text: I'M SECRETLY A TURKEY (SAT)\n",
      "Key 4:\n",
      "Decrypted digit pairs: 84 40 88 43 94 70 78 93 70 95 87 90 43 76 43 95 96 93 86 70 90 43 51 94 76 95 52\n",
      "Decrypted text: T(X+^FN]F_WZ+L+_`]VFZ+3^L_4\n",
      "Key 5:\n",
      "Decrypted digit pairs: 95 51 99 54 5 81 89 4 81 6 98 1 54 87 54 6 7 4 97 81 1 54 62 5 87 6 63\n",
      "Decrypted text: _3c6\u0005QY\u0004Q\u0006b\u00016W6\u0006\u0007\u0004aQ\u00016>\u0005W\u0006?\n",
      "Key 6:\n",
      "Decrypted digit pairs: 6 62 0 65 16 92 90 15 92 17 9 12 65 98 65 17 18 15 8 92 12 65 73 16 98 17 74\n",
      "Decrypted text: \u0006>\u0000A\u0010\\Z\u000f\\\u0011\t\fAbA\u0011\u0012\\\fAI\u0010b\u0011J\n",
      "Key 7:\n",
      "Decrypted digit pairs: 17 73 11 76 27 3 1 26 3 28 10 23 76 9 76 28 29 26 19 3 23 76 84 27 9 28 85\n",
      "Decrypted text: \u0011I\u000bL\u001b\u0003\u0001\u001a\u0003\u001c\n",
      "\u0017L\tL\u001c\u001d\u001a\u0013\u0003\u0017LT\u001b\t\u001cU\n",
      "Key 8:\n",
      "Decrypted digit pairs: 28 84 22 87 38 14 12 37 14 39 21 34 87 10 87 39 30 37 20 14 34 87 95 38 10 39 96\n",
      "Decrypted text: \u001cT\u0016W&\u000e\f%\u000e'\u0015\"W\n",
      "W'\u001e%\u0014\u000e\"W_&\n",
      "'`\n",
      "Key 9:\n",
      "Decrypted digit pairs: 39 95 33 98 49 25 23 48 25 40 32 45 98 21 98 40 41 48 31 25 45 98 6 49 21 40 7\n",
      "Decrypted text: '_!b1\u0019\u00170\u0019( -b\u0015b()0\u001f\u0019-b\u00061\u0015(\u0007\n"
     ]
    }
   ],
   "source": [
    "ciphertext = \"400644095036345936514356093209515259423656091750325118\"\n",
    "\n",
    "def decrypt_digit(digit, key):\n",
    "    return (digit + key) % 10\n",
    "\n",
    "def decrypt_to_ascii(ciphertext, key):\n",
    "    decrypted_numbers = [decrypt_digit(int(d), key) for d in ciphertext]\n",
    "    digit_pairs = [decrypted_numbers[i] * 10 + decrypted_numbers[i + 1] for i in range(0, len(decrypted_numbers), 2)]\n",
    "    print(\"Decrypted digit pairs:\", ' '.join(str(pair) for pair in digit_pairs))\n",
    "    ascii_text = ''.join(chr(pair) for pair in digit_pairs)\n",
    "    return ascii_text\n",
    "\n",
    "for key in range(10):\n",
    "    print(f\"Key {key}:\")\n",
    "    decrypted_message = decrypt_to_ascii(ciphertext, key)\n",
    "    print(f\"Decrypted text: {decrypted_message}\")"
   ]
  }
 ],
 "metadata": {
  "kernelspec": {
   "display_name": "env",
   "language": "python",
   "name": "python3"
  },
  "language_info": {
   "codemirror_mode": {
    "name": "ipython",
    "version": 3
   },
   "file_extension": ".py",
   "mimetype": "text/x-python",
   "name": "python",
   "nbconvert_exporter": "python",
   "pygments_lexer": "ipython3",
   "version": "3.12.3"
  }
 },
 "nbformat": 4,
 "nbformat_minor": 5
}
